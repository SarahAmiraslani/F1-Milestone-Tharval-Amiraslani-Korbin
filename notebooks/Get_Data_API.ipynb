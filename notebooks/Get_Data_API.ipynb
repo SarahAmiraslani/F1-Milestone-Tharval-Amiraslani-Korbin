{
 "cells": [
  {
   "cell_type": "code",
   "execution_count": 28,
   "metadata": {},
   "outputs": [],
   "source": [
    "import requests\n",
    "import numpy as np\n",
    "import pandas as pd\n",
    "import sys"
   ]
  },
  {
   "cell_type": "code",
   "execution_count": null,
   "metadata": {},
   "outputs": [],
   "source": [
    "# Get race data starting from 1995\n",
    "\n",
    "import requests\n",
    "import pandas as pd\n",
    "\n",
    "def get_race_data(start_year=1995):\n",
    "    base_url = \"http://ergast.com/api/f1\"\n",
    "    current_year = 2024  # Update this to the current year\n",
    "    all_races = []\n",
    "\n",
    "    for year in range(start_year, current_year):\n",
    "        year_url = f\"{base_url}/{year}.json\"\n",
    "        response = requests.get(year_url)\n",
    "        if response.status_code == 200:\n",
    "            year_data = response.json()\n",
    "            try:\n",
    "                races = year_data['MRData']['RaceTable']['Races']\n",
    "                for race in races:\n",
    "                    race_info = {\n",
    "                        'season': race['season'],\n",
    "                        'round': race['round'],\n",
    "                        'raceName': race['raceName'],\n",
    "                        'date': race['date'],\n",
    "                        'time': race.get('time', 'N/A'),  # 'time' might not be available for all races\n",
    "                        'circuitId': race['Circuit']['circuitId'], # TODO: Sarah added this line - wondering if it's useful to grab the id too \n",
    "                        'circuit': race['Circuit']['circuitName'],\n",
    "                        'location': race['Circuit']['Location']['locality'],\n",
    "                        'country': race['Circuit']['Location']['country'],\n",
    "                        'long': race['Circuit']['Location']['long'], #TODO: Sarah added - was thinking it could be useful if we want to tie in wheather/terrain data or for vis\n",
    "                        'lat':  race['Circuit']['Location']['lat'],# TODO: same comment as above\n",
    "                    }\n",
    "                    all_races.append(race_info)\n",
    "            except KeyError:\n",
    "                print(f\"Data format error for year {year}\")\n",
    "        else:\n",
    "            print(f\"Failed to fetch data for year {year}\")\n",
    "\n",
    "    return pd.DataFrame(all_races)\n",
    "\n",
    "# Fetch the data and create a DataFrame\n",
    "race_data_df = get_race_data()\n",
    "race_data_df.to_csv(\"../data/raw/Race_Information_1995_2023.csv\")"
   ]
  },
  {
   "cell_type": "code",
   "execution_count": 34,
   "metadata": {},
   "outputs": [
    {
     "name": "stdout",
     "output_type": "stream",
     "text": [
      "Fetching results for Season: 1995, Round: 1. Url: http://ergast.com/api/f1/1995/1/driverStandings.json\n"
     ]
    },
    {
     "ename": "TypeError",
     "evalue": "list indices must be integers or slices, not str",
     "output_type": "error",
     "traceback": [
      "\u001b[0;31m---------------------------------------------------------------------------\u001b[0m",
      "\u001b[0;31mTypeError\u001b[0m                                 Traceback (most recent call last)",
      "Cell \u001b[0;32mIn[34], line 14\u001b[0m\n\u001b[1;32m     12\u001b[0m results_data \u001b[38;5;241m=\u001b[39m response\u001b[38;5;241m.\u001b[39mjson()\n\u001b[1;32m     13\u001b[0m \u001b[38;5;28;01mtry\u001b[39;00m:\n\u001b[0;32m---> 14\u001b[0m     results \u001b[38;5;241m=\u001b[39m \u001b[43mresults_data\u001b[49m\u001b[43m[\u001b[49m\u001b[38;5;124;43m'\u001b[39;49m\u001b[38;5;124;43mMRData\u001b[39;49m\u001b[38;5;124;43m'\u001b[39;49m\u001b[43m]\u001b[49m\u001b[43m[\u001b[49m\u001b[38;5;124;43m'\u001b[39;49m\u001b[38;5;124;43mStandingsTable\u001b[39;49m\u001b[38;5;124;43m'\u001b[39;49m\u001b[43m]\u001b[49m\u001b[43m[\u001b[49m\u001b[38;5;124;43m'\u001b[39;49m\u001b[38;5;124;43mStandingsLists\u001b[39;49m\u001b[38;5;124;43m'\u001b[39;49m\u001b[43m]\u001b[49m\u001b[43m[\u001b[49m\u001b[38;5;124;43m'\u001b[39;49m\u001b[38;5;124;43mDriverStandings\u001b[39;49m\u001b[38;5;124;43m'\u001b[39;49m\u001b[43m]\u001b[49m\n\u001b[1;32m     15\u001b[0m     results_df \u001b[38;5;241m=\u001b[39m pd\u001b[38;5;241m.\u001b[39mDataFrame(results)\n\u001b[1;32m     16\u001b[0m     results_df[\u001b[38;5;124m'\u001b[39m\u001b[38;5;124mseason\u001b[39m\u001b[38;5;124m'\u001b[39m] \u001b[38;5;241m=\u001b[39m season\n",
      "\u001b[0;31mTypeError\u001b[0m: list indices must be integers or slices, not str"
     ]
    }
   ],
   "source": [
    "race_dfs = []\n",
    "\n",
    "for index, row in race_data_df.iterrows():\n",
    "    season = row['season']\n",
    "    round_num = row['round']\n",
    "    results_url = f\"http://ergast.com/api/f1/{season}/{round_num}/driverStandings.json\"\n",
    "    sys.stdout.write(f\"\\rFetching results for Season: {season}, Round: {round_num}. Url: {results_url}\\n\")\n",
    "    sys.stdout.flush()\n",
    "    response = requests.get(results_url)\n",
    "\n",
    "    if response.status_code == 200:\n",
    "        results_data = response.json()\n",
    "        try:\n",
    "            results = results_data['MRData']['StandingsTable']['StandingsLists']['DriverStandings']\n",
    "            results_df = pd.DataFrame(results)\n",
    "            results_df['season'] = season\n",
    "            results_df['round'] = round_num\n",
    "            race_dfs.append(results_df)\n",
    "        except KeyError:\n",
    "                print(f\"Data format error for season {season}, round {round_num}\")\n",
    "    else:\n",
    "        print(f\"Failed to fetch data for season {season}, round {round_num}\")"
   ]
  },
  {
   "cell_type": "code",
   "execution_count": null,
   "metadata": {},
   "outputs": [],
   "source": []
  },
  {
   "cell_type": "code",
   "execution_count": null,
   "metadata": {},
   "outputs": [],
   "source": [
    "base_url = \"http://ergast.com/api/f1\"\n",
    "current_year = 2024\n",
    "start_year = 1995\n",
    "\n",
    "for year in range(start_year,current_year):\n",
    "    year_url = f\"{base_url}/{year}.json\"\n",
    "    response = requests.get(year_url)\n",
    "    "
   ]
  },
  {
   "cell_type": "code",
   "execution_count": null,
   "metadata": {},
   "outputs": [],
   "source": [
    "response.json()"
   ]
  },
  {
   "cell_type": "code",
   "execution_count": null,
   "metadata": {},
   "outputs": [],
   "source": [
    "requests.get(\"http://ergast.com/api/f1/driverStandings/1\").json()"
   ]
  },
  {
   "cell_type": "code",
   "execution_count": null,
   "metadata": {},
   "outputs": [],
   "source": []
  }
 ],
 "metadata": {
  "kernelspec": {
   "display_name": "Python 3",
   "language": "python",
   "name": "python3"
  },
  "language_info": {
   "codemirror_mode": {
    "name": "ipython",
    "version": 3
   },
   "file_extension": ".py",
   "mimetype": "text/x-python",
   "name": "python",
   "nbconvert_exporter": "python",
   "pygments_lexer": "ipython3",
   "version": "3.10.13"
  }
 },
 "nbformat": 4,
 "nbformat_minor": 2
}
