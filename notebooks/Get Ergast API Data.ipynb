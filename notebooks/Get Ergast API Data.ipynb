{
 "cells": [
  {
   "cell_type": "markdown",
   "metadata": {},
   "source": [
    "# Ergast API Data Ingestion"
   ]
  },
  {
   "cell_type": "code",
   "execution_count": 2,
   "metadata": {},
   "outputs": [],
   "source": [
    "import sys\n",
    "import os\n",
    "import pandas as pd\n",
    "from datetime import datetime\n",
    "\n",
    "\n",
    "module_path = os.path.abspath(os.path.join(\"..\", \"scripts\"))\n",
    "if module_path not in sys.path:\n",
    "    sys.path.append(module_path)\n",
    "\n",
    "from f1_data_fetcher import (\n",
    "    fetch_all_race_data,\n",
    "    fetch_all_race_results,\n",
    "    fetch_all_f1_drivers,\n",
    "    fetch_all_f1_circuits,\n",
    "    fetch_all_driver_standings,\n",
    ")"
   ]
  },
  {
   "cell_type": "code",
   "execution_count": 3,
   "metadata": {},
   "outputs": [],
   "source": [
    "START_YEAR = 1995\n",
    "END_YEAR = datetime.now().year"
   ]
  },
  {
   "cell_type": "markdown",
   "metadata": {},
   "source": [
    "## API Requests"
   ]
  },
  {
   "cell_type": "code",
   "execution_count": null,
   "metadata": {},
   "outputs": [],
   "source": [
    "# Fetch the data and create a DataFrame\n",
    "race_data_df = fetch_all_race_data(START_YEAR, END_YEAR)\n",
    "race_data_df.to_csv(\n",
    "    f\"../data/raw/Race_Information_{START_YEAR}_{END_YEAR}.csv\", index=False\n",
    ")"
   ]
  },
  {
   "cell_type": "code",
   "execution_count": null,
   "metadata": {},
   "outputs": [],
   "source": [
    "race_results_data_df_list = fetch_all_race_results(race_data_df, START_YEAR, END_YEAR)\n",
    "race_results_data_df = pd.concat(race_results_data_df_list, ignore_index=True)\n",
    "race_results_data_df.to_csv(\n",
    "    f\"../data/raw/Race_Results_{start_year}_{end_year}.csv\", index=False\n",
    ")"
   ]
  },
  {
   "cell_type": "code",
   "execution_count": null,
   "metadata": {},
   "outputs": [],
   "source": [
    "# Fetch all F1 drivers\n",
    "all_drivers_df = fetch_all_f1_drivers()\n",
    "all_drivers_df.to_csv(\"../data/raw/drivers_information.csv\",index=False)"
   ]
  },
  {
   "cell_type": "code",
   "execution_count": null,
   "metadata": {},
   "outputs": [],
   "source": [
    "# Fetch all F1 circuits\n",
    "all_circuits_df = fetch_all_f1_circuits()\n",
    "all_circuits_df.to_csv(\"../data/raw/circuits_information.csv\", index=False)"
   ]
  },
  {
   "cell_type": "code",
   "execution_count": null,
   "metadata": {},
   "outputs": [],
   "source": [
    "# Fetch driver and constructor standings\n",
    "driver_standing_df = fetch_all_driver_standings(race_data_df)\n",
    "driver_standing_df.to_csv(\"../data/raw/driver_standings.csv\", index=False)"
   ]
  }
 ],
 "metadata": {
  "kernelspec": {
   "display_name": "Python 3",
   "language": "python",
   "name": "python3"
  },
  "language_info": {
   "codemirror_mode": {
    "name": "ipython",
    "version": 3
   },
   "file_extension": ".py",
   "mimetype": "text/x-python",
   "name": "python",
   "nbconvert_exporter": "python",
   "pygments_lexer": "ipython3",
   "version": "3.10.10"
  }
 },
 "nbformat": 4,
 "nbformat_minor": 2
}
