{
 "cells": [
  {
   "cell_type": "markdown",
   "metadata": {},
   "source": [
    "# Ergast API Data Ingestion"
   ]
  },
  {
   "cell_type": "markdown",
   "metadata": {},
   "source": [
    "## Imports"
   ]
  },
  {
   "cell_type": "code",
   "execution_count": 4,
   "id": "01J3BPEKYMA1DVWKNXRV4S8FTS",
   "metadata": {},
   "outputs": [],
   "source": [
    "import os\n",
    "import sys\n",
    "from datetime import datetime\n",
    "import asyncio\n",
    "import pandas as pd\n",
    "\n",
    "module_path = os.path.abspath(os.path.join(\"..\", \"scripts\"))\n",
    "if module_path not in sys.path:\n",
    "    sys.path.append(module_path)\n",
    "\n",
    "import f1_data_fetcher as f1_fetcher"
   ]
  },
  {
   "cell_type": "code",
   "execution_count": 5,
   "metadata": {},
   "outputs": [],
   "source": [
    "START_YEAR = 1995\n",
    "END_YEAR = datetime.now().year"
   ]
  },
  {
   "cell_type": "markdown",
   "metadata": {},
   "source": [
    "## API Requests"
   ]
  },
  {
   "cell_type": "code",
   "execution_count": 7,
   "metadata": {},
   "outputs": [],
   "source": [
    "# Race info (circuit, date, country)\n",
    "race_data_df = f1_fetcher.fetch_race_info(START_YEAR, END_YEAR)\n",
    "race_data_df.head()\n",
    "\n",
    "race_data_df.to_csv(\n",
    "    f\"../data/raw/Race_Information_{START_YEAR}_{END_YEAR}.csv\", index=False\n",
    ")"
   ]
  },
  {
   "cell_type": "code",
   "execution_count": null,
   "metadata": {},
   "outputs": [],
   "source": [
    "# Results\n",
    "result_df = asyncio.run(fetch_race_results())"
   ]
  },
  {
   "cell_type": "code",
   "execution_count": null,
   "metadata": {},
   "outputs": [],
   "source": [
    "race_results_data_df_list = fetch_all_races(START_YEAR, END_YEAR)\n",
    "race_results_data_df = pd.concat(race_results_data_df_list, ignore_index=True)\n",
    "race_results_data_df.to_csv(\n",
    "    f\"../data/raw/Race_Results_{START_YEAR}_{END_YEAR}.csv\", index=False\n",
    ")"
   ]
  },
  {
   "cell_type": "code",
   "execution_count": null,
   "metadata": {},
   "outputs": [],
   "source": [
    "# Fetch all F1 drivers\n",
    "all_drivers_df = fetch_all_f1_drivers()\n",
    "all_drivers_df.to_csv(\"../data/raw/drivers_information.csv\", index=False)"
   ]
  },
  {
   "cell_type": "code",
   "execution_count": null,
   "metadata": {},
   "outputs": [],
   "source": [
    "# Fetch all F1 circuits\n",
    "all_circuits_df = fetch_all_f1_circuits()\n",
    "all_circuits_df.to_csv(\"../data/raw/circuits_information.csv\", index=False)"
   ]
  },
  {
   "cell_type": "code",
   "execution_count": null,
   "metadata": {},
   "outputs": [],
   "source": [
    "# Fetch driver and constructor standings\n",
    "driver_standing_df = fetch_all_driver_standings(race_data_df)\n",
    "driver_standing_df.to_csv(\"../data/raw/driver_standings.csv\", index=False)"
   ]
  }
 ],
 "metadata": {
  "kernelspec": {
   "display_name": "Python 3",
   "language": "python",
   "name": "python3"
  },
  "language_info": {
   "codemirror_mode": {
    "name": "ipython",
    "version": 3
   },
   "file_extension": ".py",
   "mimetype": "text/x-python",
   "name": "python",
   "nbconvert_exporter": "python",
   "pygments_lexer": "ipython3",
   "version": "3.10.10"
  }
 },
 "nbformat": 4,
 "nbformat_minor": 2
}
